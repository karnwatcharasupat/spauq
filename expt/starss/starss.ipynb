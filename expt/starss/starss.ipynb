{
 "cells": [
  {
   "cell_type": "code",
   "execution_count": 77,
   "id": "c00c95b0-c3fd-4523-871c-85f6f77fdb6e",
   "metadata": {},
   "outputs": [],
   "source": [
    "import pandas as pd\n",
    "import numpy as np"
   ]
  },
  {
   "cell_type": "code",
   "execution_count": 78,
   "id": "ace11f8a-0d5b-4424-b00a-2f0aaf9a1190",
   "metadata": {},
   "outputs": [],
   "source": [
    "from matplotlib import pyplot as plt\n",
    "import seaborn as sns"
   ]
  },
  {
   "cell_type": "code",
   "execution_count": 79,
   "id": "4496457f-17ea-4428-b8be-926b023ff51f",
   "metadata": {},
   "outputs": [],
   "source": [
    "out_dir = \"/home/kwatchar3/spauq-home/data/starss22/foa_dev_spat_eval/5ch-30-n30-0-110-n120---5ch-30-n30-0-110-n110\"\n",
    "meta_dir = \"/home/kwatchar3/spauq-home/data/starss22/metadata_dev/test\""
   ]
  },
  {
   "cell_type": "code",
   "execution_count": 80,
   "id": "5ac66b81-ff5f-4aa0-bef7-92fb62ae8e16",
   "metadata": {},
   "outputs": [],
   "source": [
    "import os\n",
    "import glob"
   ]
  },
  {
   "cell_type": "code",
   "execution_count": 81,
   "id": "79ea2e6e-e7d9-4f13-a2d1-ce528cb06691",
   "metadata": {},
   "outputs": [],
   "source": [
    "eval_files = glob.glob(os.path.join(out_dir, \"**\", \"*.npz\"), recursive=True)"
   ]
  },
  {
   "cell_type": "code",
   "execution_count": 82,
   "id": "8b99c65f-3067-4fe0-8999-c3a4d575a7d6",
   "metadata": {},
   "outputs": [
    {
     "data": {
      "text/plain": [
       "['dev-test-tau/fold4_room2_mix006',\n",
       " 'dev-test-tau/fold4_room2_mix003',\n",
       " 'dev-test-tau/fold4_room2_mix005',\n",
       " 'dev-test-tau/fold4_room8_mix008',\n",
       " 'dev-test-tau/fold4_room8_mix003',\n",
       " 'dev-test-tau/fold4_room8_mix007',\n",
       " 'dev-test-tau/fold4_room8_mix001']"
      ]
     },
     "execution_count": 82,
     "metadata": {},
     "output_type": "execute_result"
    }
   ],
   "source": [
    "track_ids = [e.replace(out_dir + os.sep, \"\").replace(\".npz\", \"\") for e in eval_files]\n",
    "track_ids"
   ]
  },
  {
   "cell_type": "code",
   "execution_count": 83,
   "id": "800e173e-176b-48f4-8a16-6cfc781a1a7f",
   "metadata": {},
   "outputs": [],
   "source": [
    "meta_files = [os.path.join(meta_dir, i + \".csv\") for i in track_ids]"
   ]
  },
  {
   "cell_type": "code",
   "execution_count": null,
   "id": "90909189-5ff5-4a20-91cd-11dedaf76852",
   "metadata": {},
   "outputs": [],
   "source": [
    "f, ax = plt.subplots(1, 1, figsize=(8, 8))\n",
    "\n",
    "ssrs = []\n",
    "srrs = []\n",
    "nsis = []\n",
    "\n",
    "\n",
    "for mf, ef in zip(meta_files, eval_files):\n",
    "    data = np.load(ef)\n",
    "    \n",
    "    ssr = data[\"SSR\"]\n",
    "    srr = data[\"SRR\"]\n",
    "    \n",
    "    df = pd.read_csv(mf, header=None, names=[\"frame\", \"class\", \"source_id\", \"azi\", \"ele\"])\n",
    "    nsrc = df.groupby(\"frame\")[\"class\"].count()\n",
    "    t = nsrc.index.values * 0.1\n",
    "    ns = nsrc.values\n",
    "    \n",
    "    tp = 0.5 * np.arange(ssr.size) + 1.0\n",
    "    \n",
    "    ssri = np.interp(\n",
    "        t, tp, ssr, left=np.nan, right=np.nan\n",
    "    )\n",
    "    srri = np.interp(\n",
    "        t, tp, srr, left=np.nan, right=np.nan\n",
    "    )\n",
    "    \n",
    "    nsis.append(ns)\n",
    "    ssrs.append(ssri)\n",
    "    srrs.append(srri)\n",
    "\n",
    "nsis = np.concatenate(nsis)\n",
    "ssrs = np.concatenate(ssrs)\n",
    "    \n",
    "sns.swarmplot(x=nsis, y=srrs)\n",
    "    "
   ]
  }
 ],
 "metadata": {
  "kernelspec": {
   "display_name": "Python 3 (ipykernel)",
   "language": "python",
   "name": "python3"
  },
  "language_info": {
   "codemirror_mode": {
    "name": "ipython",
    "version": 3
   },
   "file_extension": ".py",
   "mimetype": "text/x-python",
   "name": "python",
   "nbconvert_exporter": "python",
   "pygments_lexer": "ipython3",
   "version": "3.8.16"
  }
 },
 "nbformat": 4,
 "nbformat_minor": 5
}
